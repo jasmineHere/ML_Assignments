{
 "cells": [
  {
   "cell_type": "markdown",
   "id": "b76e3d47",
   "metadata": {},
   "source": [
    "# Problem Statement - 1"
   ]
  },
  {
   "cell_type": "code",
   "execution_count": null,
   "id": "415c3998",
   "metadata": {},
   "outputs": [],
   "source": [
    "name = input(\"Enter your name \")\n",
    "age = int(input(\"Enter your age \"))\n",
    "repetitions = int(input(\"Enter the no. of times you want to repeat the message \"))\n",
    "for i in range(repetitions):\n",
    "    print(\"Hi {x}! You will attain centennial in year {y}\".format(x=name, y= str(2021+100-age)))"
   ]
  },
  {
   "cell_type": "markdown",
   "id": "5cf9fef2",
   "metadata": {},
   "source": [
    "# Problem Statement - 2"
   ]
  },
  {
   "cell_type": "code",
   "execution_count": null,
   "id": "750b7faa",
   "metadata": {},
   "outputs": [],
   "source": [
    "given_list = [1, 17, 2, 3, 5, 8, 13, 21, 34, 55, 89]\n",
    "comparison = int(input(\"Enter a no. which you want to set for the conditional comparison \"))\n",
    "output_list = [i for i in given_list if i<comparison]\n",
    "print(output_list)"
   ]
  },
  {
   "cell_type": "markdown",
   "id": "8ffc3a78",
   "metadata": {},
   "source": [
    "# Problem Statement - 3"
   ]
  },
  {
   "cell_type": "code",
   "execution_count": null,
   "id": "5c5b31d1",
   "metadata": {},
   "outputs": [],
   "source": [
    "def fibonacci(n):\n",
    "    count = 0\n",
    "    num1,num2 = 0,1\n",
    "    while (count < n):\n",
    "        print(num2, end = \",\")\n",
    "        n_term = num1+num2\n",
    "        num1 = num2\n",
    "        num2 = n_term\n",
    "        count+=1\n",
    "        "
   ]
  },
  {
   "cell_type": "code",
   "execution_count": null,
   "id": "8c175061",
   "metadata": {},
   "outputs": [],
   "source": [
    "nterms = int(input(\"Enter number of fibonacci numbers you want to generate \"))\n",
    "if nterms <= 0:\n",
    "    print(\"Please enter a positive integer\")\n",
    "elif nterms == 1:\n",
    "    print(n1)\n",
    "else:\n",
    "    fibonacci(nterms)\n",
    "    "
   ]
  },
  {
   "cell_type": "markdown",
   "id": "1fbce933",
   "metadata": {},
   "source": [
    "# Problem Statement - 4"
   ]
  },
  {
   "cell_type": "markdown",
   "id": "4c06bc10",
   "metadata": {},
   "source": [
    "Part1 - using loop"
   ]
  },
  {
   "cell_type": "code",
   "execution_count": null,
   "id": "e5d5b2f3",
   "metadata": {},
   "outputs": [],
   "source": [
    "def removeduplicates(l1):\n",
    "    l2 = []\n",
    "    for i in l1:\n",
    "        if i not in l2:\n",
    "            l2.append(i)\n",
    "    return l2"
   ]
  },
  {
   "cell_type": "code",
   "execution_count": null,
   "id": "1d4b8e7d",
   "metadata": {},
   "outputs": [],
   "source": [
    "print(removeduplicates([1,1,3,4,6,8,6,7]))"
   ]
  },
  {
   "cell_type": "markdown",
   "id": "990267cd",
   "metadata": {},
   "source": [
    "Part2 - using sets"
   ]
  },
  {
   "cell_type": "code",
   "execution_count": 1,
   "id": "557c4073",
   "metadata": {},
   "outputs": [],
   "source": [
    "def removeduplicates(l1):\n",
    "    return list(set(l1))"
   ]
  },
  {
   "cell_type": "code",
   "execution_count": 2,
   "id": "ede3d1e7",
   "metadata": {},
   "outputs": [
    {
     "name": "stdout",
     "output_type": "stream",
     "text": [
      "[1, 3, 4, 6, 7, 8]\n"
     ]
    }
   ],
   "source": [
    "print(removeduplicates([1,1,3,4,6,8,6,7]))"
   ]
  },
  {
   "cell_type": "markdown",
   "id": "c6f0387b",
   "metadata": {},
   "source": [
    "# Problem Statement - 5"
   ]
  },
  {
   "cell_type": "code",
   "execution_count": 3,
   "id": "afec0f8e",
   "metadata": {},
   "outputs": [],
   "source": [
    "def isprime(n):\n",
    "    outcome = False\n",
    "    if (n>1):\n",
    "        for i in range(2,n):\n",
    "            if (n%i == 0):\n",
    "                return (\"%s is not a prime number\" % str(n))\n",
    "            else:\n",
    "                outcome = True\n",
    "        if outcome is True:\n",
    "            return(\"%s is a prime number\" % str(n))\n",
    "    else:\n",
    "        return (\"%s is not a prime number\" % str(n))"
   ]
  },
  {
   "cell_type": "code",
   "execution_count": 5,
   "id": "d00bf50d",
   "metadata": {},
   "outputs": [
    {
     "name": "stdout",
     "output_type": "stream",
     "text": [
      "Enter a number 67\n",
      "67 is a prime number\n"
     ]
    }
   ],
   "source": [
    "number = int(input(\"Enter a number \"))\n",
    "print(isprime(number))"
   ]
  }
 ],
 "metadata": {
  "kernelspec": {
   "display_name": "Python 3",
   "language": "python",
   "name": "python3"
  },
  "language_info": {
   "codemirror_mode": {
    "name": "ipython",
    "version": 3
   },
   "file_extension": ".py",
   "mimetype": "text/x-python",
   "name": "python",
   "nbconvert_exporter": "python",
   "pygments_lexer": "ipython3",
   "version": "3.8.6"
  }
 },
 "nbformat": 4,
 "nbformat_minor": 5
}
